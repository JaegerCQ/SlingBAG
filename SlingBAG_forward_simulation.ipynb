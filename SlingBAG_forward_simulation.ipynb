{
 "cells": [
  {
   "cell_type": "markdown",
   "metadata": {},
   "source": [
    "## 导入库、定义device、读文件函数"
   ]
  },
  {
   "cell_type": "code",
   "execution_count": 5,
   "metadata": {},
   "outputs": [
    {
     "name": "stderr",
     "output_type": "stream",
     "text": [
      "Using /home/ultraman/.cache/torch_extensions/py310_cu121 as PyTorch extensions root...\n",
      "The input conditions for extension module differentiable_rapid_raditor have changed. Bumping to version 1 and re-building as differentiable_rapid_raditor_v1...\n",
      "Detected CUDA files, patching ldflags\n",
      "Emitting ninja build file /home/ultraman/.cache/torch_extensions/py310_cu121/differentiable_rapid_raditor/build.ninja...\n",
      "Building extension module differentiable_rapid_raditor_v1...\n",
      "Allowing ninja to set a default number of workers... (overridable by setting the environment variable MAX_JOBS=N)\n"
     ]
    },
    {
     "name": "stdout",
     "output_type": "stream",
     "text": [
      "[1/3] c++ -MMD -MF differentiable_rapid_raditor_kernel.o.d -DTORCH_EXTENSION_NAME=differentiable_rapid_raditor_v1 -DTORCH_API_INCLUDE_EXTENSION_H -DPYBIND11_COMPILER_TYPE=\\\"_gcc\\\" -DPYBIND11_STDLIB=\\\"_libstdcpp\\\" -DPYBIND11_BUILD_ABI=\\\"_cxxabi1011\\\" -isystem /home/ultraman/miniconda3/envs/3Dgs/lib/python3.10/site-packages/torch/include -isystem /home/ultraman/miniconda3/envs/3Dgs/lib/python3.10/site-packages/torch/include/torch/csrc/api/include -isystem /home/ultraman/miniconda3/envs/3Dgs/lib/python3.10/site-packages/torch/include/TH -isystem /home/ultraman/miniconda3/envs/3Dgs/lib/python3.10/site-packages/torch/include/THC -isystem /usr/local/cuda-11.8/include -isystem /home/ultraman/miniconda3/envs/3Dgs/include/python3.10 -D_GLIBCXX_USE_CXX11_ABI=0 -fPIC -std=c++17 -c /home/ultraman/my_file/4D_SlingBAG/utils/differentiable_rapid_raditor_kernel.cpp -o differentiable_rapid_raditor_kernel.o \n",
      "[2/3] /usr/local/cuda-11.8/bin/nvcc --generate-dependencies-with-compile --dependency-output differentiable_rapid_raditor_kernel_v3_fine.cuda.o.d -DTORCH_EXTENSION_NAME=differentiable_rapid_raditor_v1 -DTORCH_API_INCLUDE_EXTENSION_H -DPYBIND11_COMPILER_TYPE=\\\"_gcc\\\" -DPYBIND11_STDLIB=\\\"_libstdcpp\\\" -DPYBIND11_BUILD_ABI=\\\"_cxxabi1011\\\" -isystem /home/ultraman/miniconda3/envs/3Dgs/lib/python3.10/site-packages/torch/include -isystem /home/ultraman/miniconda3/envs/3Dgs/lib/python3.10/site-packages/torch/include/torch/csrc/api/include -isystem /home/ultraman/miniconda3/envs/3Dgs/lib/python3.10/site-packages/torch/include/TH -isystem /home/ultraman/miniconda3/envs/3Dgs/lib/python3.10/site-packages/torch/include/THC -isystem /usr/local/cuda-11.8/include -isystem /home/ultraman/miniconda3/envs/3Dgs/include/python3.10 -D_GLIBCXX_USE_CXX11_ABI=0 -D__CUDA_NO_HALF_OPERATORS__ -D__CUDA_NO_HALF_CONVERSIONS__ -D__CUDA_NO_BFLOAT16_CONVERSIONS__ -D__CUDA_NO_HALF2_OPERATORS__ --expt-relaxed-constexpr -gencode=arch=compute_86,code=compute_86 -gencode=arch=compute_86,code=sm_86 --compiler-options '-fPIC' -std=c++17 -c /home/ultraman/my_file/4D_SlingBAG/utils/differentiable_rapid_raditor_kernel_v3_fine.cu -o differentiable_rapid_raditor_kernel_v3_fine.cuda.o \n",
      "[3/3] c++ differentiable_rapid_raditor_kernel.o differentiable_rapid_raditor_kernel_v3_fine.cuda.o -shared -L/home/ultraman/miniconda3/envs/3Dgs/lib/python3.10/site-packages/torch/lib -lc10 -lc10_cuda -ltorch_cpu -ltorch_cuda -ltorch -ltorch_python -L/usr/local/cuda-11.8/lib64 -lcudart -o differentiable_rapid_raditor_v1.so\n"
     ]
    },
    {
     "name": "stderr",
     "output_type": "stream",
     "text": [
      "Loading extension module differentiable_rapid_raditor_v1...\n"
     ]
    }
   ],
   "source": [
    "import torch\n",
    "import numpy as np\n",
    "from torch.autograd import Function\n",
    "from utils.loss_utils import l2_loss, ssim\n",
    "import torch.optim as optim\n",
    "import random\n",
    "from utils.sliding_ball_model_fine import SlidingBallModel  \n",
    "from tqdm import tqdm\n",
    "import matplotlib.pyplot as plt\n",
    "import time\n",
    "import os\n",
    "\n",
    "device = torch.device('cuda:0')\n",
    "\n",
    "import torch\n",
    "from torch.utils.cpp_extension import load\n",
    "\n",
    "differentiable_rapid_raditor = load(\n",
    "    name=\"differentiable_rapid_raditor\",\n",
    "    sources=[\"utils/differentiable_rapid_raditor_kernel.cpp\", \"utils/differentiable_rapid_raditor_kernel_v3_fine.cu\"],\n",
    "    verbose=True,\n",
    ")\n",
    "\n",
    "# Define the custom Autograd Function\n",
    "class SimulateFunction(torch.autograd.Function):\n",
    "    \n",
    "    @staticmethod\n",
    "    def forward(ctx, sensor_location, source_location, source_p0, source_dx, dt, num_sensors, num_sources, num_times):\n",
    "        # Call the C++ forward function\n",
    "        simulate_record = differentiable_rapid_raditor.simulate(\n",
    "            sensor_location, source_location, source_p0, source_dx, dt, num_sensors, num_sources, num_times)\n",
    "        \n",
    "        # Save inputs for backward\n",
    "        ctx.save_for_backward(sensor_location, source_location, source_p0, source_dx)\n",
    "        ctx.dt = dt\n",
    "        ctx.num_sensors = num_sensors\n",
    "        ctx.num_sources = num_sources\n",
    "        ctx.num_times = num_times\n",
    "        \n",
    "        return simulate_record  # simulate_record：torch.Size([num_sensors * num_times])\n",
    "    \n",
    "    @staticmethod\n",
    "    def backward(ctx, dL_dsimulate_record):\n",
    "        # dL_dsimulate_record：torch.Size([num_sensors * num_times])\n",
    "        sensor_location, source_location, source_p0, source_dx = ctx.saved_tensors\n",
    "        dt = ctx.dt\n",
    "        num_sensors = ctx.num_sensors\n",
    "        num_sources = ctx.num_sources\n",
    "        num_times = ctx.num_times\n",
    "\n",
    "\n",
    "        # Call the C++ backward function\n",
    "        grad_source_location, grad_source_p0, grad_source_dx = differentiable_rapid_raditor.simulate_backward(\n",
    "            sensor_location, source_location, source_p0, source_dx, dL_dsimulate_record.contiguous(), dt, num_sensors, num_sources, num_times\n",
    "        )\n",
    "        return None, grad_source_location, grad_source_p0, grad_source_dx, None, None, None, None\n",
    "\n",
    "# Utility function to use the custom autograd function\n",
    "def simulate(sensor_location, source_location, source_p0, source_dx, dt, num_sensors, num_sources, num_times):\n",
    "    return SimulateFunction.apply(sensor_location, source_location, source_p0, source_dx, dt, num_sensors, num_sources, num_times)\n",
    "\n",
    "\n",
    "def read_ply(file_path):        #  用于读取输入的点云格式的仿真光声源的文件\n",
    "    with open(file_path, 'r') as f:\n",
    "        lines = f.readlines()\n",
    "\n",
    "    # Find the number of vertices\n",
    "    vertex_start = 0\n",
    "    source_num = 0\n",
    "    for i, line in enumerate(lines):\n",
    "        if line.startswith('element vertex'):\n",
    "            source_num = int(line.split()[2])\n",
    "        if line.startswith('end_header'):\n",
    "            vertex_start = i + 1\n",
    "            break\n",
    "\n",
    "    # Initialize arrays\n",
    "    source_location = np.zeros((source_num, 3), dtype=np.float32)\n",
    "    source_p0 = np.zeros((source_num, 1), dtype=np.float32)\n",
    "    radius_0 = np.zeros((source_num, 1), dtype=np.float32)\n",
    "\n",
    "    # Read vertex data\n",
    "    for i in range(source_num):\n",
    "        parts = lines[vertex_start + i].strip().split()\n",
    "        source_location[i] = [float(parts[0]), float(parts[1]), float(parts[2])]\n",
    "        source_p0[i] = [float(parts[3])]\n",
    "        radius_0[i] = [float(parts[4])]\n",
    "\n",
    "    return source_location, source_p0, radius_0"
   ]
  },
  {
   "cell_type": "markdown",
   "metadata": {},
   "source": [
    "## 仿真设置"
   ]
  },
  {
   "cell_type": "code",
   "execution_count": null,
   "metadata": {},
   "outputs": [
    {
     "name": "stdout",
     "output_type": "stream",
     "text": [
      "location:(1013, 3)\n"
     ]
    }
   ],
   "source": [
    "# 参数设置                 <———————————————————— 在这里修改采样点数、声速、采样点时间间隔信息！！！！！！\n",
    "num_times = 4096 # 采样点数\n",
    "Nt = num_times\n",
    "Vs = 1500.0 # [m/s] 声速\n",
    "dt = 25e-9  # [s]  采样点的时间间隔，数值上等于DAQ的采样频率的倒数\n",
    "\n",
    "# 探头坐标信息                 <———————————————————— 在这里修改你自己的探头坐标\n",
    "sensor_location = np.loadtxt('data/sensor_location_for_simulation.txt', delimiter='\\t') # 示例文件的坐标单位是 m \n",
    "\n",
    "\n",
    "sensor_num = sensor_location.shape[0]\n",
    "print(f\"location:{sensor_location.shape}\")\n",
    "\n",
    "sensor_location = torch.tensor(sensor_location,dtype=torch.float, device=device)\n",
    "\n",
    "# 仿真光声信号源信息                 <———————————————————— 在这里修改你自己的仿真光声源输入\n",
    "file_path = 'data/phantom_for_simulation.ply'"
   ]
  },
  {
   "cell_type": "markdown",
   "metadata": {},
   "source": [
    "## 开始仿真并保存仿真结果"
   ]
  },
  {
   "cell_type": "code",
   "execution_count": 12,
   "metadata": {},
   "outputs": [
    {
     "name": "stdout",
     "output_type": "stream",
     "text": [
      "source_location shape: (21744, 3)\n",
      "source_p0 shape: (21744, 1)\n",
      "radius_0 shape: (21744, 1)\n",
      "source_num: 21744\n",
      "1.5695250034332275\n",
      "(1013, 4096)\n"
     ]
    }
   ],
   "source": [
    "source_location, source_p0, radius_0 = read_ply(file_path)\n",
    "source_num = source_p0.shape[0]\n",
    "print(\"source_location shape:\", source_location.shape)\n",
    "print(\"source_p0 shape:\", source_p0.shape)\n",
    "print(\"radius_0 shape:\", radius_0.shape)\n",
    "print(\"source_num:\", source_num)\n",
    "\n",
    "source_location_g = torch.tensor(source_location, dtype=torch.float32, requires_grad=True, device=device)\n",
    "source_p0_g = torch.tensor(source_p0, dtype=torch.float32, device=device)\n",
    "radius_0_g = torch.tensor(radius_0, dtype=torch.float32, requires_grad=True, device=device)\n",
    "start = time.time()\n",
    "\n",
    "with torch.no_grad():\n",
    "    simulate_record = simulate(sensor_location, source_location_g, source_p0_g, radius_0_g, dt, sensor_num, source_num, num_times)  \n",
    "end = time.time()\n",
    "print(end-start)\n",
    "\n",
    "simulate_record_cpu = simulate_record.detach().cpu().numpy().reshape(sensor_num, Nt)\n",
    "simulate_record_cpu = simulate_record_cpu #/14.35，该系数不影响重建，仅仅为了和kWave保持一致\n",
    "print(simulate_record_cpu.shape)\n",
    "\n",
    "\n",
    "# 保存结果                 <———————————————————— 在这里修改仿真数据的保存路径\n",
    "np.savetxt('simulated_sensor_signal.txt', simulate_record_cpu, delimiter='\\t', fmt='%0.8f')"
   ]
  },
  {
   "cell_type": "markdown",
   "metadata": {},
   "source": [
    "## 显示某一个探头的仿真结果"
   ]
  },
  {
   "cell_type": "code",
   "execution_count": 14,
   "metadata": {},
   "outputs": [
    {
     "data": {
      "text/plain": [
       "<matplotlib.legend.Legend at 0x6ffc56010a60>"
      ]
     },
     "execution_count": 14,
     "metadata": {},
     "output_type": "execute_result"
    },
    {
     "data": {
      "image/png": "[encoded data removed]",
      "text/plain": [
       "<Figure size 640x480 with 1 Axes>"
      ]
     },
     "metadata": {},
     "output_type": "display_data"
    }
   ],
   "source": [
    "import matplotlib.pyplot as plt\n",
    "sensor_data_matrix = np.loadtxt('simulated_sensor_signal.txt', delimiter='\\t')\n",
    "simulated_signal = sensor_data_matrix\n",
    "num_times = 4096\n",
    "Nt = num_times\n",
    "_, ax1 = plt.subplots()\n",
    "ax1.plot((np.arange(0, Nt))*25e-3, simulated_signal[10, :], \"k-\", label=\"SlingBAG\") \n",
    "ax1.set(xlabel=f\"Time [us]\", ylabel=\"Recorded Pressure [au]\") # 修正 here \"Time]\"\n",
    "ax1.grid(True)\n",
    "ax1.legend(loc=\"upper right\")"
   ]
  }
 ],
 "metadata": {
  "kernelspec": {
   "display_name": "3Dgs",
   "language": "python",
   "name": "python3"
  },
  "language_info": {
   "codemirror_mode": {
    "name": "ipython",
    "version": 3
   },
   "file_extension": ".py",
   "mimetype": "text/x-python",
   "name": "python",
   "nbconvert_exporter": "python",
   "pygments_lexer": "ipython3",
   "version": "3.10.13"
  }
 },
 "nbformat": 4,
 "nbformat_minor": 2
}
