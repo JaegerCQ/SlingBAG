{
 "cells": [
  {
   "cell_type": "code",
   "execution_count": null,
   "metadata": {},
   "outputs": [],
   "source": [
    "import numpy as np\n",
    "import pandas as pd\n",
    "from plyfile import PlyData\n",
    "import taichi as ti\n",
    "import os\n",
    "import taichi.math as fuck\n",
    "\n",
    "# 初始化Taichi\n",
    "os.environ['CUDA_VISIBLE_DEVICES'] = '0'\n",
    "ti.init(arch=ti.cuda)\n",
    "res = 0.0002\n",
    "dims = (400, 520, 200)\n",
    "grid_points = np.prod(dims)\n",
    "grid_location = np.zeros((grid_points, 3), dtype=int)\n",
    "grid_intensity = np.zeros((grid_points,), dtype=float)\n",
    "\n",
    "# 填充grid_location\n",
    "\n",
    "@ti.kernel\n",
    "def init_grid_location(\n",
    "    location:ti.types.ndarray(),\n",
    "):\n",
    "    for idx in ti.ndrange(41600000):\n",
    "        i = (idx%(400*520))%400\n",
    "        j = (idx%(400*520))/400\n",
    "        k = idx/(400*520)\n",
    "        location[idx,0] = i\n",
    "        location[idx,1] = j\n",
    "        location[idx,2] = k\n",
    "\n",
    "init_grid_location(grid_location)\n",
    "grid_location = grid_location\n"
   ]
  },
  {
   "cell_type": "code",
   "execution_count": 2,
   "metadata": {},
   "outputs": [],
   "source": [
    "# 读入点云文件\n",
    "ply_path = 'point_cloud_fine/ball_160_after.ply'\n",
    "plydata = PlyData.read(ply_path)\n",
    "\n",
    "# 提取点云数据到相应的数组\n",
    "cloud_location = np.zeros((plydata['vertex'].count, 3))\n",
    "source_p0 = np.zeros((plydata['vertex'].count,))\n",
    "radius = np.zeros((plydata['vertex'].count,))\n",
    "\n",
    "for i, vertex in enumerate(plydata['vertex']):\n",
    "    cloud_location[i] = [vertex['x'], vertex['y'], vertex['z']]\n",
    "    source_p0[i] = vertex['pressure_0']\n",
    "    radius[i] = vertex['radius']\n",
    "\n",
    "cloud_num = len(radius)"
   ]
  },
  {
   "cell_type": "code",
   "execution_count": 3,
   "metadata": {},
   "outputs": [],
   "source": [
    "@ti.func\n",
    "def caculate(a0, p0, xg, yg, zg, xc, yc, zc):\n",
    "    R = ti.Vector([xg - xc, yg - yc, zg - zc]).norm() \n",
    "    intensity = p0 * fuck.step(0.0, a0  - R)\n",
    "    return intensity\n",
    "\n",
    "@ti.kernel\n",
    "def rendering(\n",
    "    grid_location: ti.types.ndarray(),\n",
    "    cloud_location: ti.types.ndarray(),\n",
    "    source_p0: ti.types.ndarray(),\n",
    "    radius: ti.types.ndarray(),\n",
    "    grid_intensity: ti.types.ndarray(),\n",
    "):\n",
    "    for idx in ti.ndrange(grid_points):\n",
    "        xg = grid_location[idx, 0]*res\n",
    "        yg = grid_location[idx, 1]*res\n",
    "        zg = grid_location[idx, 2]*res\n",
    "        for num in ti.ndrange(cloud_num):\n",
    "            xc = cloud_location[num, 0]\n",
    "            yc = cloud_location[num, 1]\n",
    "            zc = cloud_location[num, 2]\n",
    "            p0 = source_p0[num]\n",
    "            a0 = radius[num]\n",
    "            grid_intensity[idx] +=(\n",
    "                caculate(0.5*a0, 10 * p0 / 55, xg, yg, zg, xc, yc, zc)\n",
    "                + caculate(0.6*a0, 9 * p0 / 55, xg, yg, zg, xc, yc, zc)\n",
    "                + caculate(0.9*a0, 8 * p0 / 55, xg, yg, zg, xc, yc, zc)\n",
    "                + caculate(1.2*a0, 7 * p0 / 55, xg, yg, zg, xc, yc, zc)\n",
    "                + caculate(1.5*a0, 6 * p0 / 55, xg, yg, zg, xc, yc, zc)\n",
    "                + caculate(1.8*a0, 5 * p0 / 55, xg, yg, zg, xc, yc, zc)\n",
    "                + caculate(2.1*a0, 4 * p0 / 55, xg, yg, zg, xc, yc, zc)\n",
    "                + caculate(2.4*a0, 3 * p0 / 55, xg, yg, zg, xc, yc, zc)\n",
    "                + caculate(2.7*a0, 2 * p0 / 55, xg, yg, zg, xc, yc, zc)\n",
    "                + caculate(3.0*a0, 1 * p0 / 55, xg, yg, zg, xc, yc, zc)\n",
    "            )"
   ]
  },
  {
   "cell_type": "code",
   "execution_count": null,
   "metadata": {},
   "outputs": [],
   "source": [
    "import time\n",
    "\n",
    "start = time.time()\n",
    "rendering(\n",
    "    grid_location,\n",
    "    cloud_location,\n",
    "    source_p0,\n",
    "    radius,\n",
    "    grid_intensity,\n",
    ")\n",
    "end = time.time()\n",
    "print(f\"Time cost: {end - start}s\")\n"
   ]
  },
  {
   "cell_type": "code",
   "execution_count": null,
   "metadata": {},
   "outputs": [],
   "source": [
    "grid_intensity_to_be_reshape = grid_intensity\n",
    "print(grid_intensity_to_be_reshape.shape)"
   ]
  },
  {
   "cell_type": "code",
   "execution_count": 6,
   "metadata": {},
   "outputs": [],
   "source": [
    "grid_intensity_reshaped = grid_intensity_to_be_reshape.reshape(200,520,400)"
   ]
  },
  {
   "cell_type": "code",
   "execution_count": 7,
   "metadata": {},
   "outputs": [],
   "source": [
    "import scipy.io as sio\n",
    "output_filename = 'SlingBAG_196_recon.mat'\n",
    "sio.savemat(output_filename, {'SlingBAG_196_recon': grid_intensity_reshaped})"
   ]
  }
 ],
 "metadata": {
  "kernelspec": {
   "display_name": "stimulate",
   "language": "python",
   "name": "python3"
  },
  "language_info": {
   "codemirror_mode": {
    "name": "ipython",
    "version": 3
   },
   "file_extension": ".py",
   "mimetype": "text/x-python",
   "name": "python",
   "nbconvert_exporter": "python",
   "pygments_lexer": "ipython3",
   "version": "3.10.13"
  }
 },
 "nbformat": 4,
 "nbformat_minor": 2
}
